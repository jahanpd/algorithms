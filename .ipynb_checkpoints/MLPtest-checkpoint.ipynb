{
 "cells": [
  {
   "cell_type": "code",
   "execution_count": 1,
   "metadata": {},
   "outputs": [
    {
     "name": "stderr",
     "output_type": "stream",
     "text": [
      "WARNING: Logging before flag parsing goes to stderr.\n",
      "W0731 17:08:36.184791 4511917504 deprecation_wrapper.py:119] From /Users/jahanpd/Documents/ML/algorithms/MLP.py:5: The name tf.enable_eager_execution is deprecated. Please use tf.compat.v1.enable_eager_execution instead.\n",
      "\n"
     ]
    }
   ],
   "source": [
    "import numpy as np\n",
    "import tensorflow as tf\n",
    "import seaborn as sns\n",
    "from sklearn.preprocessing import OneHotEncoder as oneHot\n",
    "from MLP import MLP\n",
    "from genetic_optimisation import genetic_optimisation as GO\n",
    "\n",
    "mnist = tf.keras.datasets.mnist\n",
    "(x_train, y_train),(x_test, y_test) = mnist.load_data()"
   ]
  },
  {
   "cell_type": "code",
   "execution_count": 2,
   "metadata": {},
   "outputs": [
    {
     "name": "stderr",
     "output_type": "stream",
     "text": [
      "/Users/jahanpd/miniconda3/envs/ml/lib/python3.7/site-packages/sklearn/preprocessing/_encoders.py:415: FutureWarning: The handling of integer data will change in version 0.22. Currently, the categories are determined based on the range [0, max(values)], while in the future they will be determined based on the unique values.\n",
      "If you want the future behaviour and silence this warning, you can specify \"categories='auto'\".\n",
      "In case you used a LabelEncoder before this OneHotEncoder to convert the categories to integers, then you can now use the OneHotEncoder directly.\n",
      "  warnings.warn(msg, FutureWarning)\n"
     ]
    }
   ],
   "source": [
    "x_train, x_test = x_train.reshape(60000,28*28) / 255.0, x_test.reshape(10000,28*28) / 255.0\n",
    "y_train = y_train.reshape(len(y_train),1)\n",
    "y_test = y_test.reshape(len(y_test),1)\n",
    "onehot = oneHot()\n",
    "onehot.fit(y_train)\n",
    "y_train = onehot.transform(y_train).toarray()\n",
    "y_test = onehot.transform(y_test).toarray()"
   ]
  },
  {
   "cell_type": "code",
   "execution_count": 3,
   "metadata": {},
   "outputs": [
    {
     "name": "stdout",
     "output_type": "stream",
     "text": [
      "True\n",
      "Model: \"model\"\n",
      "_________________________________________________________________\n",
      "Layer (type)                 Output Shape              Param #   \n",
      "=================================================================\n",
      "input_1 (InputLayer)         [(None, 784)]             0         \n",
      "_________________________________________________________________\n",
      "dense (Dense)                (None, 10)                7850      \n",
      "_________________________________________________________________\n",
      "dense_1 (Dense)              (None, 10)                110       \n",
      "_________________________________________________________________\n",
      "dropout (Dropout)            (None, 10)                0         \n",
      "_________________________________________________________________\n",
      "dense_2 (Dense)              (None, 10)                110       \n",
      "=================================================================\n",
      "Total params: 8,070\n",
      "Trainable params: 8,070\n",
      "Non-trainable params: 0\n",
      "_________________________________________________________________\n"
     ]
    }
   ],
   "source": [
    "mlp = MLP(x_train,y_train)\n",
    "mlp.build(1,10)"
   ]
  },
  {
   "cell_type": "code",
   "execution_count": 4,
   "metadata": {},
   "outputs": [
    {
     "name": "stderr",
     "output_type": "stream",
     "text": [
      "W0731 17:08:37.596496 4511917504 deprecation.py:323] From /Users/jahanpd/miniconda3/envs/ml/lib/python3.7/site-packages/tensorflow/python/ops/math_grad.py:1250: add_dispatch_support.<locals>.wrapper (from tensorflow.python.ops.array_ops) is deprecated and will be removed in a future version.\n",
      "Instructions for updating:\n",
      "Use tf.where in 2.0, which has the same broadcast rule as np.where\n"
     ]
    },
    {
     "name": "stdout",
     "output_type": "stream",
     "text": [
      "Train on 54000 samples, validate on 6000 samples\n",
      "54000/54000 [==============================] - 4s 74us/sample - loss: 1.1342 - categorical_accuracy: 0.6010 - val_loss: 0.4171 - val_categorical_accuracy: 0.9015\n"
     ]
    }
   ],
   "source": [
    "mlp.train(1)"
   ]
  },
  {
   "cell_type": "code",
   "execution_count": 5,
   "metadata": {},
   "outputs": [
    {
     "name": "stdout",
     "output_type": "stream",
     "text": [
      "10000/10000 [==============================] - 0s 28us/sample - loss: 0.4687 - categorical_accuracy: 0.8770\n"
     ]
    },
    {
     "data": {
      "text/plain": [
       "0.877"
      ]
     },
     "execution_count": 5,
     "metadata": {},
     "output_type": "execute_result"
    }
   ],
   "source": [
    "mlp.evaluate(x_test,y_test)"
   ]
  },
  {
   "cell_type": "code",
   "execution_count": 6,
   "metadata": {},
   "outputs": [],
   "source": [
    "layers = [1,5]\n",
    "nodes = [10,15]\n",
    "go = GO(model=MLP, \n",
    "        x_train=x_train, y_train=y_train, x_test=x_test, y_test=y_test, \n",
    "        param_one=layers,\n",
    "        param_two=nodes,\n",
    "        epochs=1, generations=2, keep=0.5, size=4)"
   ]
  },
  {
   "cell_type": "code",
   "execution_count": 7,
   "metadata": {
    "scrolled": false
   },
   "outputs": [
    {
     "name": "stdout",
     "output_type": "stream",
     "text": [
      "True\n",
      "Model: \"model_1\"\n",
      "_________________________________________________________________\n",
      "Layer (type)                 Output Shape              Param #   \n",
      "=================================================================\n",
      "input_2 (InputLayer)         [(None, 784)]             0         \n",
      "_________________________________________________________________\n",
      "dense_3 (Dense)              (None, 14)                10990     \n",
      "_________________________________________________________________\n",
      "dense_4 (Dense)              (None, 14)                210       \n",
      "_________________________________________________________________\n",
      "dropout_1 (Dropout)          (None, 14)                0         \n",
      "_________________________________________________________________\n",
      "dense_5 (Dense)              (None, 14)                210       \n",
      "_________________________________________________________________\n",
      "dropout_2 (Dropout)          (None, 14)                0         \n",
      "_________________________________________________________________\n",
      "dense_6 (Dense)              (None, 10)                150       \n",
      "=================================================================\n",
      "Total params: 11,560\n",
      "Trainable params: 11,560\n",
      "Non-trainable params: 0\n",
      "_________________________________________________________________\n",
      "Train on 54000 samples, validate on 6000 samples\n",
      "54000/54000 [==============================] - 4s 81us/sample - loss: 1.3885 - categorical_accuracy: 0.5141 - val_loss: 0.5478 - val_categorical_accuracy: 0.8808\n",
      "10000/10000 [==============================] - 0s 29us/sample - loss: 0.5861 - categorical_accuracy: 0.8666\n",
      "True\n",
      "Model: \"model_2\"\n",
      "_________________________________________________________________\n",
      "Layer (type)                 Output Shape              Param #   \n",
      "=================================================================\n",
      "input_3 (InputLayer)         [(None, 784)]             0         \n",
      "_________________________________________________________________\n",
      "dense_7 (Dense)              (None, 13)                10205     \n",
      "_________________________________________________________________\n",
      "dense_8 (Dense)              (None, 13)                182       \n",
      "_________________________________________________________________\n",
      "dropout_3 (Dropout)          (None, 13)                0         \n",
      "_________________________________________________________________\n",
      "dense_9 (Dense)              (None, 13)                182       \n",
      "_________________________________________________________________\n",
      "dropout_4 (Dropout)          (None, 13)                0         \n",
      "_________________________________________________________________\n",
      "dense_10 (Dense)             (None, 13)                182       \n",
      "_________________________________________________________________\n",
      "dropout_5 (Dropout)          (None, 13)                0         \n",
      "_________________________________________________________________\n",
      "dense_11 (Dense)             (None, 10)                140       \n",
      "=================================================================\n",
      "Total params: 10,891\n",
      "Trainable params: 10,891\n",
      "Non-trainable params: 0\n",
      "_________________________________________________________________\n",
      "Train on 54000 samples, validate on 6000 samples\n",
      "54000/54000 [==============================] - 5s 101us/sample - loss: 1.7126 - categorical_accuracy: 0.4010 - val_loss: 0.8925 - val_categorical_accuracy: 0.7655\n",
      "10000/10000 [==============================] - 0s 39us/sample - loss: 0.9358 - categorical_accuracy: 0.7565\n",
      "True\n",
      "Model: \"model_3\"\n",
      "_________________________________________________________________\n",
      "Layer (type)                 Output Shape              Param #   \n",
      "=================================================================\n",
      "input_4 (InputLayer)         [(None, 784)]             0         \n",
      "_________________________________________________________________\n",
      "dense_12 (Dense)             (None, 13)                10205     \n",
      "_________________________________________________________________\n",
      "dense_13 (Dense)             (None, 13)                182       \n",
      "_________________________________________________________________\n",
      "dropout_6 (Dropout)          (None, 13)                0         \n",
      "_________________________________________________________________\n",
      "dense_14 (Dense)             (None, 13)                182       \n",
      "_________________________________________________________________\n",
      "dropout_7 (Dropout)          (None, 13)                0         \n",
      "_________________________________________________________________\n",
      "dense_15 (Dense)             (None, 10)                140       \n",
      "=================================================================\n",
      "Total params: 10,709\n",
      "Trainable params: 10,709\n",
      "Non-trainable params: 0\n",
      "_________________________________________________________________\n",
      "Train on 54000 samples, validate on 6000 samples\n",
      "54000/54000 [==============================] - 5s 84us/sample - loss: 1.3905 - categorical_accuracy: 0.4947 - val_loss: 0.5730 - val_categorical_accuracy: 0.8725\n",
      "10000/10000 [==============================] - 0s 30us/sample - loss: 0.6102 - categorical_accuracy: 0.8545\n",
      "True\n",
      "Model: \"model_4\"\n",
      "_________________________________________________________________\n",
      "Layer (type)                 Output Shape              Param #   \n",
      "=================================================================\n",
      "input_5 (InputLayer)         [(None, 784)]             0         \n",
      "_________________________________________________________________\n",
      "dense_16 (Dense)             (None, 11)                8635      \n",
      "_________________________________________________________________\n",
      "dense_17 (Dense)             (None, 11)                132       \n",
      "_________________________________________________________________\n",
      "dropout_8 (Dropout)          (None, 11)                0         \n",
      "_________________________________________________________________\n",
      "dense_18 (Dense)             (None, 10)                120       \n",
      "=================================================================\n",
      "Total params: 8,887\n",
      "Trainable params: 8,887\n",
      "Non-trainable params: 0\n",
      "_________________________________________________________________\n",
      "Train on 54000 samples, validate on 6000 samples\n",
      "54000/54000 [==============================] - 4s 80us/sample - loss: 1.0539 - categorical_accuracy: 0.6433 - val_loss: 0.3920 - val_categorical_accuracy: 0.9063\n",
      "10000/10000 [==============================] - 0s 32us/sample - loss: 0.4415 - categorical_accuracy: 0.8868\n",
      "generation: 0   min performance (params, metric): 2.0 0.8544999957084656   max performance: 13.0 0.8867999911308289\n",
      "True\n",
      "Model: \"model_5\"\n",
      "_________________________________________________________________\n",
      "Layer (type)                 Output Shape              Param #   \n",
      "=================================================================\n",
      "input_6 (InputLayer)         [(None, 784)]             0         \n",
      "_________________________________________________________________\n",
      "dense_19 (Dense)             (None, 14)                10990     \n",
      "_________________________________________________________________\n",
      "dense_20 (Dense)             (None, 14)                210       \n",
      "_________________________________________________________________\n",
      "dropout_9 (Dropout)          (None, 14)                0         \n",
      "_________________________________________________________________\n",
      "dense_21 (Dense)             (None, 14)                210       \n",
      "_________________________________________________________________\n",
      "dropout_10 (Dropout)         (None, 14)                0         \n",
      "_________________________________________________________________\n",
      "dense_22 (Dense)             (None, 10)                150       \n",
      "=================================================================\n",
      "Total params: 11,560\n",
      "Trainable params: 11,560\n",
      "Non-trainable params: 0\n",
      "_________________________________________________________________\n",
      "Train on 54000 samples, validate on 6000 samples\n",
      "54000/54000 [==============================] - 5s 86us/sample - loss: 1.3501 - categorical_accuracy: 0.5174 - val_loss: 0.5096 - val_categorical_accuracy: 0.8790\n",
      "10000/10000 [==============================] - 0s 31us/sample - loss: 0.5550 - categorical_accuracy: 0.8673\n",
      "True\n",
      "Model: \"model_6\"\n",
      "_________________________________________________________________\n",
      "Layer (type)                 Output Shape              Param #   \n",
      "=================================================================\n",
      "input_7 (InputLayer)         [(None, 784)]             0         \n",
      "_________________________________________________________________\n",
      "dense_23 (Dense)             (None, 13)                10205     \n",
      "_________________________________________________________________\n",
      "dense_24 (Dense)             (None, 13)                182       \n",
      "_________________________________________________________________\n",
      "dropout_11 (Dropout)         (None, 13)                0         \n",
      "_________________________________________________________________\n",
      "dense_25 (Dense)             (None, 13)                182       \n",
      "_________________________________________________________________\n",
      "dropout_12 (Dropout)         (None, 13)                0         \n",
      "_________________________________________________________________\n",
      "dense_26 (Dense)             (None, 13)                182       \n",
      "_________________________________________________________________\n",
      "dropout_13 (Dropout)         (None, 13)                0         \n",
      "_________________________________________________________________\n",
      "dense_27 (Dense)             (None, 10)                140       \n",
      "=================================================================\n",
      "Total params: 10,891\n",
      "Trainable params: 10,891\n",
      "Non-trainable params: 0\n",
      "_________________________________________________________________\n",
      "Train on 54000 samples, validate on 6000 samples\n"
     ]
    },
    {
     "name": "stdout",
     "output_type": "stream",
     "text": [
      "54000/54000 [==============================] - 5s 91us/sample - loss: 1.7131 - categorical_accuracy: 0.3796 - val_loss: 0.8831 - val_categorical_accuracy: 0.8107\n",
      "10000/10000 [==============================] - 0s 29us/sample - loss: 0.9266 - categorical_accuracy: 0.7858\n",
      "True\n",
      "Model: \"model_7\"\n",
      "_________________________________________________________________\n",
      "Layer (type)                 Output Shape              Param #   \n",
      "=================================================================\n",
      "input_8 (InputLayer)         [(None, 784)]             0         \n",
      "_________________________________________________________________\n",
      "dense_28 (Dense)             (None, 13)                10205     \n",
      "_________________________________________________________________\n",
      "dense_29 (Dense)             (None, 13)                182       \n",
      "_________________________________________________________________\n",
      "dropout_14 (Dropout)         (None, 13)                0         \n",
      "_________________________________________________________________\n",
      "dense_30 (Dense)             (None, 13)                182       \n",
      "_________________________________________________________________\n",
      "dropout_15 (Dropout)         (None, 13)                0         \n",
      "_________________________________________________________________\n",
      "dense_31 (Dense)             (None, 10)                140       \n",
      "=================================================================\n",
      "Total params: 10,709\n",
      "Trainable params: 10,709\n",
      "Non-trainable params: 0\n",
      "_________________________________________________________________\n",
      "Train on 54000 samples, validate on 6000 samples\n",
      "54000/54000 [==============================] - 4s 81us/sample - loss: 1.4061 - categorical_accuracy: 0.4943 - val_loss: 0.6071 - val_categorical_accuracy: 0.8537\n",
      "10000/10000 [==============================] - 0s 32us/sample - loss: 0.6540 - categorical_accuracy: 0.8295\n",
      "True\n",
      "Model: \"model_8\"\n",
      "_________________________________________________________________\n",
      "Layer (type)                 Output Shape              Param #   \n",
      "=================================================================\n",
      "input_9 (InputLayer)         [(None, 784)]             0         \n",
      "_________________________________________________________________\n",
      "dense_32 (Dense)             (None, 11)                8635      \n",
      "_________________________________________________________________\n",
      "dense_33 (Dense)             (None, 11)                132       \n",
      "_________________________________________________________________\n",
      "dropout_16 (Dropout)         (None, 11)                0         \n",
      "_________________________________________________________________\n",
      "dense_34 (Dense)             (None, 10)                120       \n",
      "=================================================================\n",
      "Total params: 8,887\n",
      "Trainable params: 8,887\n",
      "Non-trainable params: 0\n",
      "_________________________________________________________________\n",
      "Train on 54000 samples, validate on 6000 samples\n",
      "54000/54000 [==============================] - 4s 72us/sample - loss: 1.0565 - categorical_accuracy: 0.6416 - val_loss: 0.3723 - val_categorical_accuracy: 0.9030\n",
      "10000/10000 [==============================] - 0s 31us/sample - loss: 0.4156 - categorical_accuracy: 0.8800\n",
      "generation: 1   min performance (params, metric): 2.0 0.8295000195503235   max performance: 13.0 0.8799999952316284\n"
     ]
    }
   ],
   "source": [
    "parameters, metrics = go.train()"
   ]
  },
  {
   "cell_type": "code",
   "execution_count": null,
   "metadata": {},
   "outputs": [],
   "source": []
  }
 ],
 "metadata": {
  "kernelspec": {
   "display_name": "Python 3",
   "language": "python",
   "name": "python3"
  },
  "language_info": {
   "codemirror_mode": {
    "name": "ipython",
    "version": 3
   },
   "file_extension": ".py",
   "mimetype": "text/x-python",
   "name": "python",
   "nbconvert_exporter": "python",
   "pygments_lexer": "ipython3",
   "version": "3.7.3"
  }
 },
 "nbformat": 4,
 "nbformat_minor": 2
}
