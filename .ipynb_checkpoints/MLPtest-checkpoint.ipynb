{
 "cells": [
  {
   "cell_type": "code",
   "execution_count": 1,
   "metadata": {},
   "outputs": [
    {
     "name": "stderr",
     "output_type": "stream",
     "text": [
      "WARNING: Logging before flag parsing goes to stderr.\n",
      "W0802 16:51:43.719056 4623492544 deprecation_wrapper.py:119] From /Users/jahanpd/Documents/ML/algorithms/MLP.py:5: The name tf.enable_eager_execution is deprecated. Please use tf.compat.v1.enable_eager_execution instead.\n",
      "\n"
     ]
    }
   ],
   "source": [
    "import numpy as np\n",
    "import tensorflow as tf\n",
    "import seaborn as sns\n",
    "from sklearn.preprocessing import OneHotEncoder as oneHot\n",
    "from MLP import MLP\n",
    "from genetic_optimisation import genetic_optimisation as GO\n",
    "\n",
    "mnist = tf.keras.datasets.mnist\n",
    "(x_train, y_train),(x_test, y_test) = mnist.load_data()"
   ]
  },
  {
   "cell_type": "code",
   "execution_count": 2,
   "metadata": {},
   "outputs": [
    {
     "name": "stderr",
     "output_type": "stream",
     "text": [
      "/Users/jahanpd/miniconda3/envs/ml/lib/python3.7/site-packages/sklearn/preprocessing/_encoders.py:415: FutureWarning: The handling of integer data will change in version 0.22. Currently, the categories are determined based on the range [0, max(values)], while in the future they will be determined based on the unique values.\n",
      "If you want the future behaviour and silence this warning, you can specify \"categories='auto'\".\n",
      "In case you used a LabelEncoder before this OneHotEncoder to convert the categories to integers, then you can now use the OneHotEncoder directly.\n",
      "  warnings.warn(msg, FutureWarning)\n"
     ]
    }
   ],
   "source": [
    "x_train, x_test = x_train.reshape(60000,28*28) / 255.0, x_test.reshape(10000,28*28) / 255.0\n",
    "y_train = y_train.reshape(len(y_train),1)\n",
    "y_test = y_test.reshape(len(y_test),1)\n",
    "onehot = oneHot()\n",
    "onehot.fit(y_train)\n",
    "y_train = onehot.transform(y_train).toarray()\n",
    "y_test = onehot.transform(y_test).toarray()"
   ]
  },
  {
   "cell_type": "code",
   "execution_count": 3,
   "metadata": {},
   "outputs": [
    {
     "name": "stdout",
     "output_type": "stream",
     "text": [
      "True\n",
      "Model: \"model\"\n",
      "_________________________________________________________________\n",
      "Layer (type)                 Output Shape              Param #   \n",
      "=================================================================\n",
      "input_1 (InputLayer)         [(None, 784)]             0         \n",
      "_________________________________________________________________\n",
      "dense (Dense)                (None, 10)                7850      \n",
      "_________________________________________________________________\n",
      "dense_1 (Dense)              (None, 10)                110       \n",
      "_________________________________________________________________\n",
      "dropout (Dropout)            (None, 10)                0         \n",
      "_________________________________________________________________\n",
      "dense_2 (Dense)              (None, 10)                110       \n",
      "=================================================================\n",
      "Total params: 8,070\n",
      "Trainable params: 8,070\n",
      "Non-trainable params: 0\n",
      "_________________________________________________________________\n"
     ]
    }
   ],
   "source": [
    "mlp = MLP(x_train,y_train)\n",
    "mlp.build(1,10)"
   ]
  },
  {
   "cell_type": "code",
   "execution_count": 4,
   "metadata": {},
   "outputs": [
    {
     "name": "stderr",
     "output_type": "stream",
     "text": [
      "W0802 16:51:44.943835 4623492544 deprecation.py:323] From /Users/jahanpd/miniconda3/envs/ml/lib/python3.7/site-packages/tensorflow/python/ops/math_grad.py:1250: add_dispatch_support.<locals>.wrapper (from tensorflow.python.ops.array_ops) is deprecated and will be removed in a future version.\n",
      "Instructions for updating:\n",
      "Use tf.where in 2.0, which has the same broadcast rule as np.where\n"
     ]
    },
    {
     "name": "stdout",
     "output_type": "stream",
     "text": [
      "Train on 54000 samples, validate on 6000 samples\n",
      "54000/54000 [==============================] - 4s 71us/sample - loss: 1.0791 - categorical_accuracy: 0.6184 - val_loss: 0.4379 - val_categorical_accuracy: 0.8855\n"
     ]
    }
   ],
   "source": [
    "mlp.train(1)"
   ]
  },
  {
   "cell_type": "code",
   "execution_count": 5,
   "metadata": {},
   "outputs": [
    {
     "name": "stdout",
     "output_type": "stream",
     "text": [
      "10000/10000 [==============================] - 0s 27us/sample - loss: 0.4799 - categorical_accuracy: 0.8680\n"
     ]
    },
    {
     "data": {
      "text/plain": [
       "0.868"
      ]
     },
     "execution_count": 5,
     "metadata": {},
     "output_type": "execute_result"
    }
   ],
   "source": [
    "mlp.evaluate(x_test,y_test)"
   ]
  },
  {
   "cell_type": "code",
   "execution_count": 6,
   "metadata": {},
   "outputs": [],
   "source": [
    "layers = [1,10]\n",
    "nodes = [2,100]\n",
    "go = GO(model=MLP, \n",
    "        x_train=x_train, y_train=y_train, x_test=x_test, y_test=y_test, \n",
    "        param_one=layers,\n",
    "        param_two=nodes,\n",
    "        epochs=1, generations=20, keep=0.6, size=20)"
   ]
  },
  {
   "cell_type": "code",
   "execution_count": 8,
   "metadata": {
    "scrolled": false
   },
   "outputs": [
    {
     "name": "stdout",
     "output_type": "stream",
     "text": [
      "[ 4. 10.  2. 13.]\n",
      "True\n",
      "Model: \"model_9\"\n",
      "_________________________________________________________________\n",
      "Layer (type)                 Output Shape              Param #   \n",
      "=================================================================\n",
      "input_10 (InputLayer)        [(None, 784)]             0         \n",
      "_________________________________________________________________\n",
      "dense_41 (Dense)             (None, 11)                8635      \n",
      "_________________________________________________________________\n",
      "dense_42 (Dense)             (None, 11)                132       \n",
      "_________________________________________________________________\n",
      "dropout_23 (Dropout)         (None, 11)                0         \n",
      "_________________________________________________________________\n",
      "dense_43 (Dense)             (None, 11)                132       \n",
      "_________________________________________________________________\n",
      "dropout_24 (Dropout)         (None, 11)                0         \n",
      "_________________________________________________________________\n",
      "dense_44 (Dense)             (None, 11)                132       \n",
      "_________________________________________________________________\n",
      "dropout_25 (Dropout)         (None, 11)                0         \n",
      "_________________________________________________________________\n",
      "dense_45 (Dense)             (None, 10)                120       \n",
      "=================================================================\n",
      "Total params: 9,151\n",
      "Trainable params: 9,151\n",
      "Non-trainable params: 0\n",
      "_________________________________________________________________\n",
      "Train on 54000 samples, validate on 6000 samples\n",
      "54000/54000 [==============================] - 5s 87us/sample - loss: 1.7844 - categorical_accuracy: 0.3222 - val_loss: 1.0091 - val_categorical_accuracy: 0.7127\n",
      "10000/10000 [==============================] - 0s 29us/sample - loss: 1.0460 - categorical_accuracy: 0.6949\n",
      "[ 4. 10.  3. 14.]\n",
      "True\n",
      "Model: \"model_10\"\n",
      "_________________________________________________________________\n",
      "Layer (type)                 Output Shape              Param #   \n",
      "=================================================================\n",
      "input_11 (InputLayer)        [(None, 784)]             0         \n",
      "_________________________________________________________________\n",
      "dense_46 (Dense)             (None, 12)                9420      \n",
      "_________________________________________________________________\n",
      "dense_47 (Dense)             (None, 12)                156       \n",
      "_________________________________________________________________\n",
      "dropout_26 (Dropout)         (None, 12)                0         \n",
      "_________________________________________________________________\n",
      "dense_48 (Dense)             (None, 12)                156       \n",
      "_________________________________________________________________\n",
      "dropout_27 (Dropout)         (None, 12)                0         \n",
      "_________________________________________________________________\n",
      "dense_49 (Dense)             (None, 12)                156       \n",
      "_________________________________________________________________\n",
      "dropout_28 (Dropout)         (None, 12)                0         \n",
      "_________________________________________________________________\n",
      "dense_50 (Dense)             (None, 12)                156       \n",
      "_________________________________________________________________\n",
      "dropout_29 (Dropout)         (None, 12)                0         \n",
      "_________________________________________________________________\n",
      "dense_51 (Dense)             (None, 10)                130       \n",
      "=================================================================\n",
      "Total params: 10,174\n",
      "Trainable params: 10,174\n",
      "Non-trainable params: 0\n",
      "_________________________________________________________________\n",
      "Train on 54000 samples, validate on 6000 samples\n",
      "54000/54000 [==============================] - 5s 90us/sample - loss: 1.9210 - categorical_accuracy: 0.2816 - val_loss: 1.3128 - val_categorical_accuracy: 0.5687\n",
      "10000/10000 [==============================] - 0s 32us/sample - loss: 1.3313 - categorical_accuracy: 0.5538\n",
      "[ 3. 11.  4. 11.]\n",
      "True\n",
      "Model: \"model_11\"\n",
      "_________________________________________________________________\n",
      "Layer (type)                 Output Shape              Param #   \n",
      "=================================================================\n",
      "input_12 (InputLayer)        [(None, 784)]             0         \n",
      "_________________________________________________________________\n",
      "dense_52 (Dense)             (None, 11)                8635      \n",
      "_________________________________________________________________\n",
      "dense_53 (Dense)             (None, 11)                132       \n",
      "_________________________________________________________________\n",
      "dropout_30 (Dropout)         (None, 11)                0         \n",
      "_________________________________________________________________\n",
      "dense_54 (Dense)             (None, 11)                132       \n",
      "_________________________________________________________________\n",
      "dropout_31 (Dropout)         (None, 11)                0         \n",
      "_________________________________________________________________\n",
      "dense_55 (Dense)             (None, 11)                132       \n",
      "_________________________________________________________________\n",
      "dropout_32 (Dropout)         (None, 11)                0         \n",
      "_________________________________________________________________\n",
      "dense_56 (Dense)             (None, 11)                132       \n",
      "_________________________________________________________________\n",
      "dropout_33 (Dropout)         (None, 11)                0         \n",
      "_________________________________________________________________\n",
      "dense_57 (Dense)             (None, 10)                120       \n",
      "=================================================================\n",
      "Total params: 9,283\n",
      "Trainable params: 9,283\n",
      "Non-trainable params: 0\n",
      "_________________________________________________________________\n",
      "Train on 54000 samples, validate on 6000 samples\n",
      "54000/54000 [==============================] - 6s 106us/sample - loss: 1.9293 - categorical_accuracy: 0.2449 - val_loss: 1.4418 - val_categorical_accuracy: 0.4427\n",
      "10000/10000 [==============================] - 0s 31us/sample - loss: 1.4702 - categorical_accuracy: 0.4278\n",
      "[ 2. 13.  2. 14.]\n",
      "True\n",
      "Model: \"model_12\"\n",
      "_________________________________________________________________\n",
      "Layer (type)                 Output Shape              Param #   \n",
      "=================================================================\n",
      "input_13 (InputLayer)        [(None, 784)]             0         \n",
      "_________________________________________________________________\n",
      "dense_58 (Dense)             (None, 13)                10205     \n",
      "_________________________________________________________________\n",
      "dense_59 (Dense)             (None, 13)                182       \n",
      "_________________________________________________________________\n",
      "dropout_34 (Dropout)         (None, 13)                0         \n",
      "_________________________________________________________________\n",
      "dense_60 (Dense)             (None, 13)                182       \n",
      "_________________________________________________________________\n",
      "dropout_35 (Dropout)         (None, 13)                0         \n",
      "_________________________________________________________________\n",
      "dense_61 (Dense)             (None, 10)                140       \n",
      "=================================================================\n",
      "Total params: 10,709\n",
      "Trainable params: 10,709\n",
      "Non-trainable params: 0\n",
      "_________________________________________________________________\n",
      "Train on 54000 samples, validate on 6000 samples\n",
      "54000/54000 [==============================] - 4s 77us/sample - loss: 1.3999 - categorical_accuracy: 0.5084 - val_loss: 0.5508 - val_categorical_accuracy: 0.8842\n",
      "10000/10000 [==============================] - 0s 29us/sample - loss: 0.5938 - categorical_accuracy: 0.8658\n",
      "generation: 0   min performance (params, metric): [ 4. 10.  2. 13.] 0.4277999997138977   max performance: [ 4. 10.  3. 14.] 0.8658000230789185\n",
      "[ 4 10  2 13]\n",
      "True\n",
      "Model: \"model_13\"\n",
      "_________________________________________________________________\n",
      "Layer (type)                 Output Shape              Param #   \n",
      "=================================================================\n",
      "input_14 (InputLayer)        [(None, 784)]             0         \n",
      "_________________________________________________________________\n",
      "dense_62 (Dense)             (None, 11)                8635      \n",
      "_________________________________________________________________\n",
      "dense_63 (Dense)             (None, 11)                132       \n",
      "_________________________________________________________________\n",
      "dropout_36 (Dropout)         (None, 11)                0         \n",
      "_________________________________________________________________\n",
      "dense_64 (Dense)             (None, 11)                132       \n",
      "_________________________________________________________________\n",
      "dropout_37 (Dropout)         (None, 11)                0         \n",
      "_________________________________________________________________\n",
      "dense_65 (Dense)             (None, 11)                132       \n",
      "_________________________________________________________________\n",
      "dropout_38 (Dropout)         (None, 11)                0         \n",
      "_________________________________________________________________\n",
      "dense_66 (Dense)             (None, 10)                120       \n",
      "=================================================================\n",
      "Total params: 9,151\n",
      "Trainable params: 9,151\n",
      "Non-trainable params: 0\n",
      "_________________________________________________________________\n",
      "Train on 54000 samples, validate on 6000 samples\n"
     ]
    },
    {
     "name": "stdout",
     "output_type": "stream",
     "text": [
      "54000/54000 [==============================] - 5s 85us/sample - loss: 1.7866 - categorical_accuracy: 0.3136 - val_loss: 1.1643 - val_categorical_accuracy: 0.5835\n",
      "10000/10000 [==============================] - 0s 30us/sample - loss: 1.1988 - categorical_accuracy: 0.5621\n",
      "[ 4 10  3 14]\n",
      "True\n",
      "Model: \"model_14\"\n",
      "_________________________________________________________________\n",
      "Layer (type)                 Output Shape              Param #   \n",
      "=================================================================\n",
      "input_15 (InputLayer)        [(None, 784)]             0         \n",
      "_________________________________________________________________\n",
      "dense_67 (Dense)             (None, 12)                9420      \n",
      "_________________________________________________________________\n",
      "dense_68 (Dense)             (None, 12)                156       \n",
      "_________________________________________________________________\n",
      "dropout_39 (Dropout)         (None, 12)                0         \n",
      "_________________________________________________________________\n",
      "dense_69 (Dense)             (None, 12)                156       \n",
      "_________________________________________________________________\n",
      "dropout_40 (Dropout)         (None, 12)                0         \n",
      "_________________________________________________________________\n",
      "dense_70 (Dense)             (None, 12)                156       \n",
      "_________________________________________________________________\n",
      "dropout_41 (Dropout)         (None, 12)                0         \n",
      "_________________________________________________________________\n",
      "dense_71 (Dense)             (None, 12)                156       \n",
      "_________________________________________________________________\n",
      "dropout_42 (Dropout)         (None, 12)                0         \n",
      "_________________________________________________________________\n",
      "dense_72 (Dense)             (None, 10)                130       \n",
      "=================================================================\n",
      "Total params: 10,174\n",
      "Trainable params: 10,174\n",
      "Non-trainable params: 0\n",
      "_________________________________________________________________\n",
      "Train on 54000 samples, validate on 6000 samples\n",
      "54000/54000 [==============================] - 5s 91us/sample - loss: 1.9351 - categorical_accuracy: 0.2777 - val_loss: 1.2949 - val_categorical_accuracy: 0.5977\n",
      "10000/10000 [==============================] - 0s 31us/sample - loss: 1.3233 - categorical_accuracy: 0.5938\n",
      "[ 3 11  4 11]\n",
      "True\n",
      "Model: \"model_15\"\n",
      "_________________________________________________________________\n",
      "Layer (type)                 Output Shape              Param #   \n",
      "=================================================================\n",
      "input_16 (InputLayer)        [(None, 784)]             0         \n",
      "_________________________________________________________________\n",
      "dense_73 (Dense)             (None, 11)                8635      \n",
      "_________________________________________________________________\n",
      "dense_74 (Dense)             (None, 11)                132       \n",
      "_________________________________________________________________\n",
      "dropout_43 (Dropout)         (None, 11)                0         \n",
      "_________________________________________________________________\n",
      "dense_75 (Dense)             (None, 11)                132       \n",
      "_________________________________________________________________\n",
      "dropout_44 (Dropout)         (None, 11)                0         \n",
      "_________________________________________________________________\n",
      "dense_76 (Dense)             (None, 11)                132       \n",
      "_________________________________________________________________\n",
      "dropout_45 (Dropout)         (None, 11)                0         \n",
      "_________________________________________________________________\n",
      "dense_77 (Dense)             (None, 11)                132       \n",
      "_________________________________________________________________\n",
      "dropout_46 (Dropout)         (None, 11)                0         \n",
      "_________________________________________________________________\n",
      "dense_78 (Dense)             (None, 10)                120       \n",
      "=================================================================\n",
      "Total params: 9,283\n",
      "Trainable params: 9,283\n",
      "Non-trainable params: 0\n",
      "_________________________________________________________________\n",
      "Train on 54000 samples, validate on 6000 samples\n",
      "54000/54000 [==============================] - 6s 103us/sample - loss: 1.9464 - categorical_accuracy: 0.2511 - val_loss: 1.4006 - val_categorical_accuracy: 0.4470\n",
      "10000/10000 [==============================] - 0s 35us/sample - loss: 1.4102 - categorical_accuracy: 0.4398\n",
      "[ 2 13  2 14]\n",
      "True\n",
      "Model: \"model_16\"\n",
      "_________________________________________________________________\n",
      "Layer (type)                 Output Shape              Param #   \n",
      "=================================================================\n",
      "input_17 (InputLayer)        [(None, 784)]             0         \n",
      "_________________________________________________________________\n",
      "dense_79 (Dense)             (None, 13)                10205     \n",
      "_________________________________________________________________\n",
      "dense_80 (Dense)             (None, 13)                182       \n",
      "_________________________________________________________________\n",
      "dropout_47 (Dropout)         (None, 13)                0         \n",
      "_________________________________________________________________\n",
      "dense_81 (Dense)             (None, 13)                182       \n",
      "_________________________________________________________________\n",
      "dropout_48 (Dropout)         (None, 13)                0         \n",
      "_________________________________________________________________\n",
      "dense_82 (Dense)             (None, 10)                140       \n",
      "=================================================================\n",
      "Total params: 10,709\n",
      "Trainable params: 10,709\n",
      "Non-trainable params: 0\n",
      "_________________________________________________________________\n",
      "Train on 54000 samples, validate on 6000 samples\n",
      "54000/54000 [==============================] - 5s 87us/sample - loss: 1.3925 - categorical_accuracy: 0.4920 - val_loss: 0.5747 - val_categorical_accuracy: 0.8672\n",
      "10000/10000 [==============================] - 0s 34us/sample - loss: 0.6144 - categorical_accuracy: 0.8449\n",
      "generation: 1   min performance (params, metric): [ 4. 10.  2. 13.] 0.4397999942302704   max performance: [ 4. 10.  3. 14.] 0.8449000120162964\n"
     ]
    }
   ],
   "source": [
    "parameters, metrics, performance = go.train()"
   ]
  },
  {
   "cell_type": "code",
   "execution_count": 9,
   "metadata": {},
   "outputs": [
    {
     "data": {
      "text/plain": [
       "array([[0.4278    , 0.86580002],\n",
       "       [0.43979999, 0.84490001]])"
      ]
     },
     "execution_count": 9,
     "metadata": {},
     "output_type": "execute_result"
    }
   ],
   "source": [
    "performance"
   ]
  },
  {
   "cell_type": "code",
   "execution_count": null,
   "metadata": {},
   "outputs": [],
   "source": []
  }
 ],
 "metadata": {
  "kernelspec": {
   "display_name": "Python 3",
   "language": "python",
   "name": "python3"
  },
  "language_info": {
   "codemirror_mode": {
    "name": "ipython",
    "version": 3
   },
   "file_extension": ".py",
   "mimetype": "text/x-python",
   "name": "python",
   "nbconvert_exporter": "python",
   "pygments_lexer": "ipython3",
   "version": "3.7.3"
  }
 },
 "nbformat": 4,
 "nbformat_minor": 2
}
