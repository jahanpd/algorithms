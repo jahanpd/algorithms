{
 "cells": [
  {
   "cell_type": "code",
   "execution_count": 1,
   "metadata": {},
   "outputs": [],
   "source": [
    "import numpy as np\n",
    "import tensorflow as tf\n",
    "import seaborn as sns\n",
    "from sklearn.preprocessing import OneHotEncoder as oneHot\n",
    "from dimensionality_reduction import autoencoder as encode\n",
    "\n",
    "mnist = tf.keras.datasets.mnist\n",
    "(x_train, y_train),(x_test, y_test) = mnist.load_data()"
   ]
  },
  {
   "cell_type": "code",
   "execution_count": 2,
   "metadata": {},
   "outputs": [],
   "source": [
    "x_train, x_test = x_train.reshape(60000,28*28) / 255.0, x_test.reshape(10000,28*28) / 255.0"
   ]
  },
  {
   "cell_type": "code",
   "execution_count": 3,
   "metadata": {},
   "outputs": [
    {
     "name": "stdout",
     "output_type": "stream",
     "text": [
      "True\n"
     ]
    }
   ],
   "source": [
    "autoencoder = encode(x_train)"
   ]
  },
  {
   "cell_type": "code",
   "execution_count": 4,
   "metadata": {},
   "outputs": [
    {
     "name": "stdout",
     "output_type": "stream",
     "text": [
      "WARNING:tensorflow:From /home/jahan/miniconda3/envs/ml_gpu3/lib/python3.7/site-packages/tensorflow/python/ops/resource_variable_ops.py:642: colocate_with (from tensorflow.python.framework.ops) is deprecated and will be removed in a future version.\n",
      "Instructions for updating:\n",
      "Colocations handled automatically by placer.\n",
      "WARNING:tensorflow:From /home/jahan/miniconda3/envs/ml_gpu3/lib/python3.7/site-packages/tensorflow/python/keras/utils/losses_utils.py:170: to_float (from tensorflow.python.ops.math_ops) is deprecated and will be removed in a future version.\n",
      "Instructions for updating:\n",
      "Use tf.cast instead.\n",
      "_________________________________________________________________\n",
      "Layer (type)                 Output Shape              Param #   \n",
      "=================================================================\n",
      "input_1 (InputLayer)         (None, 784)               0         \n",
      "_________________________________________________________________\n",
      "dense (Dense)                (None, 784)               615440    \n",
      "_________________________________________________________________\n",
      "dense_1 (Dense)              (None, 629)               493765    \n",
      "_________________________________________________________________\n",
      "dense_2 (Dense)              (None, 474)               298620    \n",
      "_________________________________________________________________\n",
      "dense_3 (Dense)              (None, 320)               152000    \n",
      "_________________________________________________________________\n",
      "dense_4 (Dense)              (None, 165)               52965     \n",
      "_________________________________________________________________\n",
      "dense_5 (Dense)              (None, 10)                1660      \n",
      "_________________________________________________________________\n",
      "dense_6 (Dense)              (None, 164)               1804      \n",
      "_________________________________________________________________\n",
      "dense_7 (Dense)              (None, 320)               52800     \n",
      "_________________________________________________________________\n",
      "dense_8 (Dense)              (None, 474)               152154    \n",
      "_________________________________________________________________\n",
      "dense_9 (Dense)              (None, 629)               298775    \n",
      "_________________________________________________________________\n",
      "dense_10 (Dense)             (None, 784)               493920    \n",
      "=================================================================\n",
      "Total params: 2,613,903\n",
      "Trainable params: 2,613,903\n",
      "Non-trainable params: 0\n",
      "_________________________________________________________________\n"
     ]
    }
   ],
   "source": [
    "autoencoder.build_model(5,10,10)"
   ]
  },
  {
   "cell_type": "code",
   "execution_count": 6,
   "metadata": {},
   "outputs": [
    {
     "name": "stdout",
     "output_type": "stream",
     "text": [
      "Epoch 1/10\n",
      "60000/60000 [==============================] - 16s 271us/sample - loss: 0.0206\n",
      "Epoch 2/10\n",
      "60000/60000 [==============================] - 17s 277us/sample - loss: 0.0193\n",
      "Epoch 3/10\n",
      "60000/60000 [==============================] - 16s 271us/sample - loss: 0.0184\n",
      "Epoch 4/10\n",
      "60000/60000 [==============================] - 16s 267us/sample - loss: 0.0178\n",
      "Epoch 5/10\n",
      "60000/60000 [==============================] - 16s 270us/sample - loss: 0.0172\n",
      "Epoch 6/10\n",
      "60000/60000 [==============================] - 16s 271us/sample - loss: 0.0167\n",
      "Epoch 7/10\n",
      "60000/60000 [==============================] - 16s 270us/sample - loss: 0.0163\n",
      "Epoch 8/10\n",
      "60000/60000 [==============================] - 16s 270us/sample - loss: 0.0159\n",
      "Epoch 9/10\n",
      "60000/60000 [==============================] - 16s 268us/sample - loss: 0.0157\n",
      "Epoch 10/10\n",
      "60000/60000 [==============================] - 16s 268us/sample - loss: 0.0154\n"
     ]
    }
   ],
   "source": [
    "autoencoder.train(10)"
   ]
  },
  {
   "cell_type": "code",
   "execution_count": 13,
   "metadata": {},
   "outputs": [],
   "source": [
    "predictions = autoencoder.predict(x_test[1:5], reduce=1)\n",
    "prediction = predictions*255.0"
   ]
  },
  {
   "cell_type": "code",
   "execution_count": 15,
   "metadata": {},
   "outputs": [
    {
     "data": {
      "image/png": "[encoded data removed]",
      "text/plain": [
       "<Figure size 432x288 with 1 Axes>"
      ]
     },
     "metadata": {
      "needs_background": "light"
     },
     "output_type": "display_data"
    },
    {
     "data": {
      "image/png": "[encoded data removed]",
      "text/plain": [
       "<Figure size 432x288 with 1 Axes>"
      ]
     },
     "metadata": {
      "needs_background": "light"
     },
     "output_type": "display_data"
    },
    {
     "data": {
      "image/png": "[encoded data removed]",
      "text/plain": [
       "<Figure size 432x288 with 1 Axes>"
      ]
     },
     "metadata": {
      "needs_background": "light"
     },
     "output_type": "display_data"
    },
    {
     "data": {
      "image/png": "[encoded data removed]",
      "text/plain": [
       "<Figure size 432x288 with 1 Axes>"
      ]
     },
     "metadata": {
      "needs_background": "light"
     },
     "output_type": "display_data"
    }
   ],
   "source": [
    "from matplotlib import pyplot as plt\n",
    "for pred in prediction:\n",
    "    first_image = pred\n",
    "    first_image = np.array(first_image, dtype='float')\n",
    "    pixels = first_image.reshape((28, 28))\n",
    "    plt.imshow(pixels, cmap='gray')\n",
    "    plt.show()"
   ]
  },
  {
   "cell_type": "code",
   "execution_count": null,
   "metadata": {},
   "outputs": [],
   "source": []
  }
 ],
 "metadata": {
  "kernelspec": {
   "display_name": "Python 3",
   "language": "python",
   "name": "python3"
  },
  "language_info": {
   "codemirror_mode": {
    "name": "ipython",
    "version": 3
   },
   "file_extension": ".py",
   "mimetype": "text/x-python",
   "name": "python",
   "nbconvert_exporter": "python",
   "pygments_lexer": "ipython3",
   "version": "3.7.3"
  }
 },
 "nbformat": 4,
 "nbformat_minor": 2
}
