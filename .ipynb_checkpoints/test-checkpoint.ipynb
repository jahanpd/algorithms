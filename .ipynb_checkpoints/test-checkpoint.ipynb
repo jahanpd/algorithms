{
 "cells": [
  {
   "cell_type": "code",
   "execution_count": 1,
   "metadata": {},
   "outputs": [
    {
     "name": "stderr",
     "output_type": "stream",
     "text": [
      "WARNING: Logging before flag parsing goes to stderr.\n",
      "W0707 18:57:13.313506 140640174573376 deprecation_wrapper.py:119] From /home/jahan/Documents/algorithms/logistic_regression2.py:3: The name tf.enable_eager_execution is deprecated. Please use tf.compat.v1.enable_eager_execution instead.\n",
      "\n"
     ]
    }
   ],
   "source": [
    "import numpy as np\n",
    "import tensorflow as tf\n",
    "import seaborn as sns\n",
    "from sklearn.preprocessing import OneHotEncoder as oneHot\n",
    "from logistic_regression2 import logistic_regression as lr\n",
    "mnist = tf.keras.datasets.mnist\n",
    "(x_train, y_train),(x_test, y_test) = mnist.load_data()"
   ]
  },
  {
   "cell_type": "code",
   "execution_count": 2,
   "metadata": {},
   "outputs": [
    {
     "name": "stderr",
     "output_type": "stream",
     "text": [
      "/home/jahan/miniconda3/envs/ml_cpu/lib/python3.7/site-packages/sklearn/preprocessing/_encoders.py:415: FutureWarning: The handling of integer data will change in version 0.22. Currently, the categories are determined based on the range [0, max(values)], while in the future they will be determined based on the unique values.\n",
      "If you want the future behaviour and silence this warning, you can specify \"categories='auto'\".\n",
      "In case you used a LabelEncoder before this OneHotEncoder to convert the categories to integers, then you can now use the OneHotEncoder directly.\n",
      "  warnings.warn(msg, FutureWarning)\n"
     ]
    }
   ],
   "source": [
    "x_train, x_test = x_train.reshape(60000,28*28) / 255.0, x_test.reshape(10000,28*28) / 255.0\n",
    "y_train = y_train.reshape(len(y_train),1)\n",
    "y_test = y_test.reshape(len(y_test),1)\n",
    "onehot = oneHot()\n",
    "onehot.fit(y_train)\n",
    "y_train = onehot.transform(y_train).toarray()\n",
    "y_test = onehot.transform(y_test).toarray()"
   ]
  },
  {
   "cell_type": "code",
   "execution_count": 3,
   "metadata": {
    "scrolled": true
   },
   "outputs": [
    {
     "name": "stdout",
     "output_type": "stream",
     "text": [
      "True\n"
     ]
    }
   ],
   "source": [
    "logistic = lr(x_train,y_train)"
   ]
  },
  {
   "cell_type": "code",
   "execution_count": 4,
   "metadata": {
    "scrolled": true
   },
   "outputs": [
    {
     "name": "stdout",
     "output_type": "stream",
     "text": [
      "2.302599\n",
      "Epoch: 0  Cost: 2.302599  AUC: 0.5\n",
      "2.251414\n",
      "Epoch: 1  Cost: 2.251414  AUC: 0.8391199\n",
      "2.201614\n",
      "Epoch: 2  Cost: 2.201614  AUC: 0.8797909\n",
      "2.1531203\n",
      "Epoch: 3  Cost: 2.1531203  AUC: 0.89378226\n",
      "2.1058776\n",
      "Epoch: 4  Cost: 2.1058776  AUC: 0.9032414\n",
      "2.0598304\n",
      "Epoch: 5  Cost: 2.0598304  AUC: 0.91107297\n",
      "2.0149312\n",
      "Epoch: 6  Cost: 2.0149312  AUC: 0.91813165\n",
      "1.9711415\n",
      "Epoch: 7  Cost: 1.9711415  AUC: 0.924403\n",
      "1.9284304\n",
      "Epoch: 8  Cost: 1.9284304  AUC: 0.92986727\n",
      "1.8867761\n",
      "Epoch: 9  Cost: 1.8867761  AUC: 0.934977\n",
      "1.8461612\n",
      "Epoch: 10  Cost: 1.8461612  AUC: 0.93929595\n",
      "1.8065746\n",
      "Epoch: 11  Cost: 1.8065746  AUC: 0.9431545\n",
      "1.7680092\n",
      "Epoch: 12  Cost: 1.7680092  AUC: 0.94660807\n",
      "1.7304604\n",
      "Epoch: 13  Cost: 1.7304604  AUC: 0.9496412\n",
      "1.6939268\n",
      "Epoch: 14  Cost: 1.6939268  AUC: 0.9522751\n",
      "1.6584079\n",
      "Epoch: 15  Cost: 1.6584079  AUC: 0.9545548\n",
      "1.6239029\n",
      "Epoch: 16  Cost: 1.6239029  AUC: 0.95662606\n",
      "1.5904096\n",
      "Epoch: 17  Cost: 1.5904096  AUC: 0.9583266\n",
      "1.5579245\n",
      "Epoch: 18  Cost: 1.5579245  AUC: 0.9598615\n",
      "1.5264404\n",
      "Epoch: 19  Cost: 1.5264404  AUC: 0.9612313\n",
      "1.495948\n",
      "Epoch: 20  Cost: 1.495948  AUC: 0.96245635\n",
      "1.4664341\n",
      "Epoch: 21  Cost: 1.4664341  AUC: 0.9635217\n",
      "1.4378834\n",
      "Epoch: 22  Cost: 1.4378834  AUC: 0.9644891\n",
      "1.410277\n",
      "Epoch: 23  Cost: 1.410277  AUC: 0.965379\n",
      "1.3835938\n",
      "Epoch: 24  Cost: 1.3835938  AUC: 0.9661747\n",
      "1.3578118\n",
      "Epoch: 25  Cost: 1.3578118  AUC: 0.9669159\n",
      "1.3329064\n",
      "Epoch: 26  Cost: 1.3329064  AUC: 0.967634\n",
      "1.3088533\n",
      "Epoch: 27  Cost: 1.3088533  AUC: 0.9682921\n",
      "1.2856276\n",
      "Epoch: 28  Cost: 1.2856276  AUC: 0.96891195\n",
      "1.2632042\n",
      "Epoch: 29  Cost: 1.2632042  AUC: 0.9695159\n",
      "1.2415581\n",
      "Epoch: 30  Cost: 1.2415581  AUC: 0.9701041\n",
      "1.2206645\n",
      "Epoch: 31  Cost: 1.2206645  AUC: 0.9706483\n",
      "1.2004992\n",
      "Epoch: 32  Cost: 1.2004992  AUC: 0.97118115\n",
      "1.1810378\n",
      "Epoch: 33  Cost: 1.1810378  AUC: 0.97168756\n",
      "1.162256\n",
      "Epoch: 34  Cost: 1.162256  AUC: 0.9721941\n",
      "1.1441292\n",
      "Epoch: 35  Cost: 1.1441292  AUC: 0.972662\n",
      "1.1266333\n",
      "Epoch: 36  Cost: 1.1266333  AUC: 0.97313356\n",
      "1.1097443\n",
      "Epoch: 37  Cost: 1.1097443  AUC: 0.9735589\n",
      "1.0934381\n",
      "Epoch: 38  Cost: 1.0934381  AUC: 0.9739884\n",
      "1.0776919\n",
      "Epoch: 39  Cost: 1.0776919  AUC: 0.974385\n",
      "1.0624822\n",
      "Epoch: 40  Cost: 1.0624822  AUC: 0.9747915\n",
      "1.0477875\n",
      "Epoch: 41  Cost: 1.0477875  AUC: 0.975175\n",
      "1.0335867\n",
      "Epoch: 42  Cost: 1.0335867  AUC: 0.97554135\n",
      "1.0198593\n",
      "Epoch: 43  Cost: 1.0198593  AUC: 0.97588795\n",
      "1.0065862\n",
      "Epoch: 44  Cost: 1.0065862  AUC: 0.9762385\n",
      "0.99374884\n",
      "Epoch: 45  Cost: 0.99374884  AUC: 0.97658664\n",
      "0.98132956\n",
      "Epoch: 46  Cost: 0.98132956  AUC: 0.9769016\n",
      "0.9693114\n",
      "Epoch: 47  Cost: 0.9693114  AUC: 0.977205\n",
      "0.9576779\n",
      "Epoch: 48  Cost: 0.9576779  AUC: 0.97751033\n",
      "0.9464138\n",
      "Epoch: 49  Cost: 0.9464138  AUC: 0.9778013\n",
      "0.93550366\n",
      "Epoch: 50  Cost: 0.93550366  AUC: 0.97808135\n",
      "0.92493296\n",
      "Epoch: 51  Cost: 0.92493296  AUC: 0.9783752\n",
      "0.91468775\n",
      "Epoch: 52  Cost: 0.91468775  AUC: 0.9786516\n",
      "0.90475494\n",
      "Epoch: 53  Cost: 0.90475494  AUC: 0.9789148\n",
      "0.89512163\n",
      "Epoch: 54  Cost: 0.89512163  AUC: 0.97915095\n",
      "0.885775\n",
      "Epoch: 55  Cost: 0.885775  AUC: 0.97939587\n",
      "0.8767039\n",
      "Epoch: 56  Cost: 0.8767039  AUC: 0.9796419\n",
      "0.8678967\n",
      "Epoch: 57  Cost: 0.8678967  AUC: 0.9798738\n",
      "0.8593427\n",
      "Epoch: 58  Cost: 0.8593427  AUC: 0.9800909\n",
      "0.8510318\n",
      "Epoch: 59  Cost: 0.8510318  AUC: 0.98030883\n",
      "0.8429539\n",
      "Epoch: 60  Cost: 0.8429539  AUC: 0.98051924\n",
      "0.8350999\n",
      "Epoch: 61  Cost: 0.8350999  AUC: 0.98072743\n",
      "0.8274607\n",
      "Epoch: 62  Cost: 0.8274607  AUC: 0.9809293\n",
      "0.820028\n",
      "Epoch: 63  Cost: 0.820028  AUC: 0.98111904\n",
      "0.8127936\n",
      "Epoch: 64  Cost: 0.8127936  AUC: 0.981313\n",
      "0.80575\n",
      "Epoch: 65  Cost: 0.80575  AUC: 0.981498\n",
      "0.7988896\n",
      "Epoch: 66  Cost: 0.7988896  AUC: 0.9816604\n",
      "0.7922056\n",
      "Epoch: 67  Cost: 0.7922056  AUC: 0.98184645\n",
      "0.78569126\n",
      "Epoch: 68  Cost: 0.78569126  AUC: 0.9820031\n",
      "0.7793404\n",
      "Epoch: 69  Cost: 0.7793404  AUC: 0.9821619\n",
      "0.7731464\n",
      "Epoch: 70  Cost: 0.7731464  AUC: 0.9823199\n",
      "0.767104\n",
      "Epoch: 71  Cost: 0.767104  AUC: 0.9824764\n",
      "0.7612074\n",
      "Epoch: 72  Cost: 0.7612074  AUC: 0.9826249\n",
      "0.7554515\n",
      "Epoch: 73  Cost: 0.7554515  AUC: 0.9827744\n",
      "0.7498309\n",
      "Epoch: 74  Cost: 0.7498309  AUC: 0.9829273\n",
      "0.74434114\n",
      "Epoch: 75  Cost: 0.74434114  AUC: 0.9830588\n",
      "0.7389775\n",
      "Epoch: 76  Cost: 0.7389775  AUC: 0.9831968\n",
      "0.73373526\n",
      "Epoch: 77  Cost: 0.73373526  AUC: 0.98332834\n",
      "0.7286107\n",
      "Epoch: 78  Cost: 0.7286107  AUC: 0.98345697\n",
      "0.7235994\n",
      "Epoch: 79  Cost: 0.7235994  AUC: 0.9835865\n",
      "0.7186977\n",
      "Epoch: 80  Cost: 0.7186977  AUC: 0.98371506\n",
      "0.7139018\n",
      "Epoch: 81  Cost: 0.7139018  AUC: 0.9838306\n",
      "0.7092085\n",
      "Epoch: 82  Cost: 0.7092085  AUC: 0.9839529\n",
      "0.7046139\n",
      "Epoch: 83  Cost: 0.7046139  AUC: 0.9840628\n",
      "0.7001153\n",
      "Epoch: 84  Cost: 0.7001153  AUC: 0.9841791\n",
      "0.6957092\n",
      "Epoch: 85  Cost: 0.6957092  AUC: 0.9842889\n",
      "0.6913931\n",
      "Epoch: 86  Cost: 0.6913931  AUC: 0.9843987\n",
      "0.68716383\n",
      "Epoch: 87  Cost: 0.68716383  AUC: 0.9845029\n",
      "0.6830186\n",
      "Epoch: 88  Cost: 0.6830186  AUC: 0.98459166\n",
      "0.67895514\n",
      "Epoch: 89  Cost: 0.67895514  AUC: 0.9846971\n",
      "0.67497075\n",
      "Epoch: 90  Cost: 0.67497075  AUC: 0.9848031\n",
      "0.67106295\n",
      "Epoch: 91  Cost: 0.67106295  AUC: 0.9848895\n",
      "0.6672299\n",
      "Epoch: 92  Cost: 0.6672299  AUC: 0.98498756\n",
      "0.66346884\n",
      "Epoch: 93  Cost: 0.66346884  AUC: 0.9850817\n",
      "0.65977776\n",
      "Epoch: 94  Cost: 0.65977776  AUC: 0.98517203\n",
      "0.65615505\n",
      "Epoch: 95  Cost: 0.65615505  AUC: 0.98526305\n",
      "0.6525983\n",
      "Epoch: 96  Cost: 0.6525983  AUC: 0.98535204\n",
      "0.6491059\n",
      "Epoch: 97  Cost: 0.6491059  AUC: 0.9854393\n",
      "0.64567584\n",
      "Epoch: 98  Cost: 0.64567584  AUC: 0.9855232\n",
      "0.6423066\n",
      "Epoch: 99  Cost: 0.6423066  AUC: 0.98559934\n"
     ]
    }
   ],
   "source": [
    "costs, accuracies = logistic.train(100)"
   ]
  },
  {
   "cell_type": "code",
   "execution_count": 8,
   "metadata": {},
   "outputs": [
    {
     "data": {
      "text/plain": [
       "<matplotlib.axes._subplots.AxesSubplot at 0x7fe8e40ed9b0>"
      ]
     },
     "execution_count": 8,
     "metadata": {},
     "output_type": "execute_result"
    },
    {
     "data": {
      "image/png": "[encoded data removed]",
      "text/plain": [
       "<Figure size 432x288 with 1 Axes>"
      ]
     },
     "metadata": {
      "needs_background": "light"
     },
     "output_type": "display_data"
    }
   ],
   "source": [
    "sns.scatterplot(np.arange(0,len(accuracies),1),accuracies)\n",
    "sns.scatterplot(np.arange(0,len(costs),1),(costs-np.min(costs))/(np.max(costs)-np.min(costs)))"
   ]
  },
  {
   "cell_type": "code",
   "execution_count": 6,
   "metadata": {},
   "outputs": [
    {
     "name": "stdout",
     "output_type": "stream",
     "text": [
      "2.251414\n"
     ]
    }
   ],
   "source": []
  },
  {
   "cell_type": "code",
   "execution_count": null,
   "metadata": {},
   "outputs": [],
   "source": []
  }
 ],
 "metadata": {
  "kernelspec": {
   "display_name": "Python 3",
   "language": "python",
   "name": "python3"
  },
  "language_info": {
   "codemirror_mode": {
    "name": "ipython",
    "version": 3
   },
   "file_extension": ".py",
   "mimetype": "text/x-python",
   "name": "python",
   "nbconvert_exporter": "python",
   "pygments_lexer": "ipython3",
   "version": "3.7.3"
  }
 },
 "nbformat": 4,
 "nbformat_minor": 2
}
